{
 "cells": [
  {
   "cell_type": "markdown",
   "id": "5bb247b3",
   "metadata": {},
   "source": [
    "## Jan 24 \n",
    "### Python code for standard deviation:"
   ]
  },
  {
   "cell_type": "code",
   "execution_count": 5,
   "id": "2f552bf5",
   "metadata": {},
   "outputs": [
    {
     "name": "stdout",
     "output_type": "stream",
     "text": [
      "[41 69  8 81 74 95 76 77 23 76 63 45 46 82 50 33 39 88 39 84 61 97 22 30\n",
      " 82 55 85 80 17 83 21 58 54 83 84 42 35 62 79 63 53 39 59 94 92 79 39 34\n",
      " 57 33 18 71 77 80 33 96 33 94 86 81 32 22 63 68 60 62 15 15 65 44 13 55\n",
      " 47 63 16 78 17 53 96 18 51 62 68 76 95 81 82 21 96 49  9 77 35 61 82 14\n",
      " 87 51 16 94]\n"
     ]
    }
   ],
   "source": [
    "import numpy as np\n",
    "x=np.random.randint(100, size=(100))\n",
    "\n",
    "print(x)"
   ]
  },
  {
   "cell_type": "code",
   "execution_count": 6,
   "id": "616bb7a4",
   "metadata": {},
   "outputs": [
    {
     "data": {
      "text/plain": [
       "25.88435821108957"
      ]
     },
     "execution_count": 6,
     "metadata": {},
     "output_type": "execute_result"
    }
   ],
   "source": [
    "import statistics\n",
    "statistics.stdev(x)"
   ]
  },
  {
   "cell_type": "markdown",
   "id": "ce169072",
   "metadata": {},
   "source": [
    "### Code utilizing standard deviation equation:\n",
    "\n",
    "stdev = SUM(sqrt((A-ave)^2)/N"
   ]
  },
  {
   "cell_type": "code",
   "execution_count": 9,
   "id": "d0caadbe",
   "metadata": {},
   "outputs": [
    {
     "data": {
      "text/plain": [
       "25.893527134686526"
      ]
     },
     "execution_count": 9,
     "metadata": {},
     "output_type": "execute_result"
    }
   ],
   "source": [
    "import numpy as np\n",
    "ave=statistics.mean(x)\n",
    "y=x-ave\n",
    "z=y**2\n",
    "a=np.sqrt(np.sum(z)/99)\n",
    "a"
   ]
  },
  {
   "cell_type": "markdown",
   "id": "19cc32ac",
   "metadata": {},
   "source": [
    "## Jan 26th \n",
    "### Creating random numbers and bins\n",
    "Don't use histogram funciton -- still need to redo this"
   ]
  },
  {
   "cell_type": "code",
   "execution_count": 18,
   "id": "39687cf1",
   "metadata": {},
   "outputs": [
    {
     "data": {
      "image/png": "[encoded data removed]",
      "text/plain": [
       "<Figure size 640x480 with 1 Axes>"
      ]
     },
     "metadata": {},
     "output_type": "display_data"
    }
   ],
   "source": [
    "import numpy as np\n",
    "\n",
    "x=np.random.randint(low=0,high=100,size=(10000,1))\n",
    "\n",
    "from matplotlib import pyplot as plt\n",
    "\n",
    "plt.hist(x, bins=[0, 10, 20, 30,\n",
    "                  40, 50, 60, 70,\n",
    "                  80, 90, 100])\n",
    " \n",
    "plt.title(\"Numpy Histogram\")\n",
    " \n",
    "# show plot\n",
    "plt.show()\n"
   ]
  },
  {
   "cell_type": "code",
   "execution_count": 16,
   "id": "2d3589ce",
   "metadata": {},
   "outputs": [
    {
     "data": {
      "image/png": "[encoded data removed]",
      "text/plain": [
       "<Figure size 640x480 with 1 Axes>"
      ]
     },
     "metadata": {},
     "output_type": "display_data"
    },
    {
     "data": {
      "text/plain": [
       "3.8534708144862733"
      ]
     },
     "execution_count": 16,
     "metadata": {},
     "output_type": "execute_result"
    }
   ],
   "source": [
    "y=np.random.randn(10000)\n",
    "\n",
    "plt.hist(y, bins=[-6,-4,-3,-2,-1,0,1,2,3,4,6])\n",
    " \n",
    "plt.title(\"Numpy Histogram\")\n",
    " \n",
    "# show plot\n",
    "plt.show()\n",
    "max(y)\n",
    "#min(y)"
   ]
  },
  {
   "cell_type": "markdown",
   "id": "1b902603",
   "metadata": {},
   "source": [
    "## RMSE Calculation"
   ]
  },
  {
   "cell_type": "code",
   "execution_count": 35,
   "id": "38bf1861",
   "metadata": {},
   "outputs": [
    {
     "data": {
      "text/plain": [
       "1.0060697360748054"
      ]
     },
     "execution_count": 35,
     "metadata": {},
     "output_type": "execute_result"
    }
   ],
   "source": [
    "#calculate mean of random dataset\n",
    "\n",
    "import statistics\n",
    "z=statistics.mean(y)\n",
    "\n",
    "#finding square of data minus average\n",
    "\n",
    "a=(y-z)**2\n",
    "\n",
    "\n",
    "\n",
    "#final calculation\n",
    "\n",
    "RMSE=np.sqrt((1/10000)*sum(a))\n",
    "RMSE\n",
    "\n",
    "\n"
   ]
  },
  {
   "cell_type": "code",
   "execution_count": 34,
   "id": "3a228a3a",
   "metadata": {},
   "outputs": [
    {
     "data": {
      "text/plain": [
       "1.0060697360748054"
      ]
     },
     "execution_count": 34,
     "metadata": {},
     "output_type": "execute_result"
    }
   ],
   "source": [
    "#verifying RMSE calculation\n",
    "import math\n",
    "y_actual = statistics.mean(y)\n",
    "y_predicted = y\n",
    " \n",
    "MSE = np.square(np.subtract(y_actual,y_predicted)).mean() \n",
    " \n",
    "RMSE = math.sqrt(MSE)\n",
    "RMSE"
   ]
  },
  {
   "cell_type": "markdown",
   "id": "eef40b9a",
   "metadata": {},
   "source": [
    "## LCG"
   ]
  },
  {
   "cell_type": "code",
   "execution_count": 13,
   "id": "d3b471c5",
   "metadata": {},
   "outputs": [],
   "source": [
    "#I found this code on the internet because I didn't know how to start. Still trying to figure out how to write it myself. I don't know all the syntax that is being used here\n",
    "\n",
    "def linearCongruentialMethod(Xo, m, a, c,\n",
    "                             randomNums,\n",
    "                             noOfRandomNums):\n",
    " \n",
    "    # Initialize the seed state\n",
    "    randomNums[0] = Xo\n",
    " \n",
    "    # Traverse to generate required\n",
    "    # numbers of random numbers\n",
    "    for i in range(1, noOfRandomNums):\n",
    "         \n",
    "        # Follow the linear congruential method\n",
    "        randomNums[i] = ((randomNums[i - 1] * a) +\n",
    "                                         c) % m\n",
    " \n",
    "# Driver Code\n",
    "if __name__ == '__main__':\n",
    "    \n",
    "# Seed value\n",
    "    Xo = 27\n",
    "     \n",
    "    # Modulus parameter\n",
    "    m = 8\n",
    "     \n",
    "    # Multiplier term\n",
    "    a = 9\n",
    "     \n",
    "    # Increment term\n",
    "    c = 3\n",
    " \n",
    "    # Number of Random numbers\n",
    "    # to be generated\n",
    "    noOfRandomNums = 15\n",
    " \n",
    "    # To store random numbers\n",
    "    randomNums = [0] * (noOfRandomNums)\n",
    "    \n",
    "    # Function Call\n",
    "    linearCongruentialMethod(Xo, m, a, c,\n",
    "                             randomNums,\n",
    "                             noOfRandomNums)\n",
    " \n",
    "    # Print the generated random numbers\n",
    "    for i in randomNums:\n",
    "        print(i, end = \" \")"
   ]
  },
  {
   "cell_type": "markdown",
   "id": "d01e4706",
   "metadata": {},
   "source": [
    "# Feb 2 Data Collection Exercise"
   ]
  },
  {
   "cell_type": "markdown",
   "id": "c53174bb",
   "metadata": {},
   "source": [
    "Goal: Collect a bit of real data that you would need/want to solve a specific problem\n",
    "\n",
    "1. What feature data do you have/need?\n",
    "    1. Bleaching in photodoped DHNRs at different concentrations of dopant\n",
    "    2. Want to figure out best concentrations to use (determine relationship between dopant concentration and bleaching)\n",
    "2. What target data do you have/need\n",
    "    1. PL (normalized to absorption) at max values\n",
    "    2. concentration of dopant\n",
    "    3. UV exposure time\n",
    "3. Where does the data come from?\n",
    "    1. Fluorometer\n",
    "    2. Calculated concentrations\n",
    "    3. Measured time\n",
    "4. What metadata do you have/need?\n",
    "    1. UV exposure time\n",
    "    2. Machine used\n",
    "    3. Ambient temperature\n",
    "    4. Humidity\n",
    "5. Establish version control for your data\n",
    "    1. Can be new dataset using suggested concentrations\n",
    "6. How will you make this data FAIR?\n",
    "    1. Put in .csv and upload to database (maybe github?)\n",
    "7. What problems/obstacles/questions do you notice?\n",
    "    1. I will have to curate the data by hand and put it in a file first, so I'm not sure if this idea is useful.\n"
   ]
  },
  {
   "cell_type": "markdown",
   "id": "4728c802",
   "metadata": {},
   "source": [
    "## Pandas ex."
   ]
  },
  {
   "cell_type": "code",
   "execution_count": 14,
   "id": "aa7d3551",
   "metadata": {},
   "outputs": [],
   "source": [
    "import numpy as np\n",
    "import pandas as pd\n",
    "\n",
    "df=pd.read_csv(r'C:\\Users\\Hannah Pichman\\Downloads\\archive\\Concrete_Data_Yeh.csv')\n",
    "\n",
    "df"
   ]
  },
  {
   "cell_type": "code",
   "execution_count": 32,
   "id": "92bb77ef",
   "metadata": {},
   "outputs": [
    {
     "data": {
      "text/html": [
       "<div>\n",
       "<style scoped>\n",
       "    .dataframe tbody tr th:only-of-type {\n",
       "        vertical-align: middle;\n",
       "    }\n",
       "\n",
       "    .dataframe tbody tr th {\n",
       "        vertical-align: top;\n",
       "    }\n",
       "\n",
       "    .dataframe thead th {\n",
       "        text-align: right;\n",
       "    }\n",
       "</style>\n",
       "<table border=\"1\" class=\"dataframe\">\n",
       "  <thead>\n",
       "    <tr style=\"text-align: right;\">\n",
       "      <th></th>\n",
       "      <th>cement</th>\n",
       "      <th>slag</th>\n",
       "      <th>flyash</th>\n",
       "      <th>water</th>\n",
       "      <th>superplasticizer</th>\n",
       "      <th>coarseaggregate</th>\n",
       "      <th>fineaggregate</th>\n",
       "      <th>age</th>\n",
       "      <th>csMPa</th>\n",
       "    </tr>\n",
       "  </thead>\n",
       "  <tbody>\n",
       "    <tr>\n",
       "      <th>count</th>\n",
       "      <td>1030.000000</td>\n",
       "      <td>1030.000000</td>\n",
       "      <td>1030.000000</td>\n",
       "      <td>1030.000000</td>\n",
       "      <td>1030.000000</td>\n",
       "      <td>1030.000000</td>\n",
       "      <td>1030.000000</td>\n",
       "      <td>1030.000000</td>\n",
       "      <td>1030.000000</td>\n",
       "    </tr>\n",
       "    <tr>\n",
       "      <th>mean</th>\n",
       "      <td>281.167864</td>\n",
       "      <td>73.895825</td>\n",
       "      <td>54.188350</td>\n",
       "      <td>181.567282</td>\n",
       "      <td>6.204660</td>\n",
       "      <td>972.918932</td>\n",
       "      <td>773.580485</td>\n",
       "      <td>45.662136</td>\n",
       "      <td>35.817961</td>\n",
       "    </tr>\n",
       "    <tr>\n",
       "      <th>std</th>\n",
       "      <td>104.506364</td>\n",
       "      <td>86.279342</td>\n",
       "      <td>63.997004</td>\n",
       "      <td>21.354219</td>\n",
       "      <td>5.973841</td>\n",
       "      <td>77.753954</td>\n",
       "      <td>80.175980</td>\n",
       "      <td>63.169912</td>\n",
       "      <td>16.705742</td>\n",
       "    </tr>\n",
       "    <tr>\n",
       "      <th>min</th>\n",
       "      <td>102.000000</td>\n",
       "      <td>0.000000</td>\n",
       "      <td>0.000000</td>\n",
       "      <td>121.800000</td>\n",
       "      <td>0.000000</td>\n",
       "      <td>801.000000</td>\n",
       "      <td>594.000000</td>\n",
       "      <td>1.000000</td>\n",
       "      <td>2.330000</td>\n",
       "    </tr>\n",
       "    <tr>\n",
       "      <th>25%</th>\n",
       "      <td>192.375000</td>\n",
       "      <td>0.000000</td>\n",
       "      <td>0.000000</td>\n",
       "      <td>164.900000</td>\n",
       "      <td>0.000000</td>\n",
       "      <td>932.000000</td>\n",
       "      <td>730.950000</td>\n",
       "      <td>7.000000</td>\n",
       "      <td>23.710000</td>\n",
       "    </tr>\n",
       "    <tr>\n",
       "      <th>50%</th>\n",
       "      <td>272.900000</td>\n",
       "      <td>22.000000</td>\n",
       "      <td>0.000000</td>\n",
       "      <td>185.000000</td>\n",
       "      <td>6.400000</td>\n",
       "      <td>968.000000</td>\n",
       "      <td>779.500000</td>\n",
       "      <td>28.000000</td>\n",
       "      <td>34.445000</td>\n",
       "    </tr>\n",
       "    <tr>\n",
       "      <th>75%</th>\n",
       "      <td>350.000000</td>\n",
       "      <td>142.950000</td>\n",
       "      <td>118.300000</td>\n",
       "      <td>192.000000</td>\n",
       "      <td>10.200000</td>\n",
       "      <td>1029.400000</td>\n",
       "      <td>824.000000</td>\n",
       "      <td>56.000000</td>\n",
       "      <td>46.135000</td>\n",
       "    </tr>\n",
       "    <tr>\n",
       "      <th>max</th>\n",
       "      <td>540.000000</td>\n",
       "      <td>359.400000</td>\n",
       "      <td>200.100000</td>\n",
       "      <td>247.000000</td>\n",
       "      <td>32.200000</td>\n",
       "      <td>1145.000000</td>\n",
       "      <td>992.600000</td>\n",
       "      <td>365.000000</td>\n",
       "      <td>82.600000</td>\n",
       "    </tr>\n",
       "  </tbody>\n",
       "</table>\n",
       "</div>"
      ],
      "text/plain": [
       "            cement         slag       flyash        water  superplasticizer  \\\n",
       "count  1030.000000  1030.000000  1030.000000  1030.000000       1030.000000   \n",
       "mean    281.167864    73.895825    54.188350   181.567282          6.204660   \n",
       "std     104.506364    86.279342    63.997004    21.354219          5.973841   \n",
       "min     102.000000     0.000000     0.000000   121.800000          0.000000   \n",
       "25%     192.375000     0.000000     0.000000   164.900000          0.000000   \n",
       "50%     272.900000    22.000000     0.000000   185.000000          6.400000   \n",
       "75%     350.000000   142.950000   118.300000   192.000000         10.200000   \n",
       "max     540.000000   359.400000   200.100000   247.000000         32.200000   \n",
       "\n",
       "       coarseaggregate  fineaggregate          age        csMPa  \n",
       "count      1030.000000    1030.000000  1030.000000  1030.000000  \n",
       "mean        972.918932     773.580485    45.662136    35.817961  \n",
       "std          77.753954      80.175980    63.169912    16.705742  \n",
       "min         801.000000     594.000000     1.000000     2.330000  \n",
       "25%         932.000000     730.950000     7.000000    23.710000  \n",
       "50%         968.000000     779.500000    28.000000    34.445000  \n",
       "75%        1029.400000     824.000000    56.000000    46.135000  \n",
       "max        1145.000000     992.600000   365.000000    82.600000  "
      ]
     },
     "execution_count": 32,
     "metadata": {},
     "output_type": "execute_result"
    }
   ],
   "source": [
    "df.describe()"
   ]
  },
  {
   "cell_type": "code",
   "execution_count": 34,
   "id": "ae5cceea",
   "metadata": {},
   "outputs": [
    {
     "data": {
      "text/html": [
       "<div>\n",
       "<style scoped>\n",
       "    .dataframe tbody tr th:only-of-type {\n",
       "        vertical-align: middle;\n",
       "    }\n",
       "\n",
       "    .dataframe tbody tr th {\n",
       "        vertical-align: top;\n",
       "    }\n",
       "\n",
       "    .dataframe thead th {\n",
       "        text-align: right;\n",
       "    }\n",
       "</style>\n",
       "<table border=\"1\" class=\"dataframe\">\n",
       "  <thead>\n",
       "    <tr style=\"text-align: right;\">\n",
       "      <th></th>\n",
       "      <th>cement</th>\n",
       "      <th>slag</th>\n",
       "      <th>flyash</th>\n",
       "      <th>water</th>\n",
       "      <th>superplasticizer</th>\n",
       "      <th>coarseaggregate</th>\n",
       "      <th>fineaggregate</th>\n",
       "      <th>age</th>\n",
       "      <th>csMPa</th>\n",
       "    </tr>\n",
       "  </thead>\n",
       "  <tbody>\n",
       "    <tr>\n",
       "      <th>0</th>\n",
       "      <td>False</td>\n",
       "      <td>False</td>\n",
       "      <td>False</td>\n",
       "      <td>False</td>\n",
       "      <td>False</td>\n",
       "      <td>False</td>\n",
       "      <td>False</td>\n",
       "      <td>False</td>\n",
       "      <td>False</td>\n",
       "    </tr>\n",
       "    <tr>\n",
       "      <th>1</th>\n",
       "      <td>False</td>\n",
       "      <td>False</td>\n",
       "      <td>False</td>\n",
       "      <td>False</td>\n",
       "      <td>False</td>\n",
       "      <td>False</td>\n",
       "      <td>False</td>\n",
       "      <td>False</td>\n",
       "      <td>False</td>\n",
       "    </tr>\n",
       "    <tr>\n",
       "      <th>2</th>\n",
       "      <td>False</td>\n",
       "      <td>False</td>\n",
       "      <td>False</td>\n",
       "      <td>False</td>\n",
       "      <td>False</td>\n",
       "      <td>False</td>\n",
       "      <td>False</td>\n",
       "      <td>False</td>\n",
       "      <td>False</td>\n",
       "    </tr>\n",
       "    <tr>\n",
       "      <th>3</th>\n",
       "      <td>False</td>\n",
       "      <td>False</td>\n",
       "      <td>False</td>\n",
       "      <td>False</td>\n",
       "      <td>False</td>\n",
       "      <td>False</td>\n",
       "      <td>False</td>\n",
       "      <td>False</td>\n",
       "      <td>False</td>\n",
       "    </tr>\n",
       "    <tr>\n",
       "      <th>4</th>\n",
       "      <td>False</td>\n",
       "      <td>False</td>\n",
       "      <td>False</td>\n",
       "      <td>False</td>\n",
       "      <td>False</td>\n",
       "      <td>False</td>\n",
       "      <td>False</td>\n",
       "      <td>False</td>\n",
       "      <td>False</td>\n",
       "    </tr>\n",
       "    <tr>\n",
       "      <th>...</th>\n",
       "      <td>...</td>\n",
       "      <td>...</td>\n",
       "      <td>...</td>\n",
       "      <td>...</td>\n",
       "      <td>...</td>\n",
       "      <td>...</td>\n",
       "      <td>...</td>\n",
       "      <td>...</td>\n",
       "      <td>...</td>\n",
       "    </tr>\n",
       "    <tr>\n",
       "      <th>1025</th>\n",
       "      <td>False</td>\n",
       "      <td>False</td>\n",
       "      <td>False</td>\n",
       "      <td>False</td>\n",
       "      <td>False</td>\n",
       "      <td>False</td>\n",
       "      <td>False</td>\n",
       "      <td>False</td>\n",
       "      <td>False</td>\n",
       "    </tr>\n",
       "    <tr>\n",
       "      <th>1026</th>\n",
       "      <td>False</td>\n",
       "      <td>False</td>\n",
       "      <td>False</td>\n",
       "      <td>False</td>\n",
       "      <td>False</td>\n",
       "      <td>False</td>\n",
       "      <td>False</td>\n",
       "      <td>False</td>\n",
       "      <td>False</td>\n",
       "    </tr>\n",
       "    <tr>\n",
       "      <th>1027</th>\n",
       "      <td>False</td>\n",
       "      <td>False</td>\n",
       "      <td>False</td>\n",
       "      <td>False</td>\n",
       "      <td>False</td>\n",
       "      <td>False</td>\n",
       "      <td>False</td>\n",
       "      <td>False</td>\n",
       "      <td>False</td>\n",
       "    </tr>\n",
       "    <tr>\n",
       "      <th>1028</th>\n",
       "      <td>False</td>\n",
       "      <td>False</td>\n",
       "      <td>False</td>\n",
       "      <td>False</td>\n",
       "      <td>False</td>\n",
       "      <td>False</td>\n",
       "      <td>False</td>\n",
       "      <td>False</td>\n",
       "      <td>False</td>\n",
       "    </tr>\n",
       "    <tr>\n",
       "      <th>1029</th>\n",
       "      <td>False</td>\n",
       "      <td>False</td>\n",
       "      <td>False</td>\n",
       "      <td>False</td>\n",
       "      <td>False</td>\n",
       "      <td>False</td>\n",
       "      <td>False</td>\n",
       "      <td>False</td>\n",
       "      <td>False</td>\n",
       "    </tr>\n",
       "  </tbody>\n",
       "</table>\n",
       "<p>1030 rows × 9 columns</p>\n",
       "</div>"
      ],
      "text/plain": [
       "      cement   slag  flyash  water  superplasticizer  coarseaggregate  \\\n",
       "0      False  False   False  False             False            False   \n",
       "1      False  False   False  False             False            False   \n",
       "2      False  False   False  False             False            False   \n",
       "3      False  False   False  False             False            False   \n",
       "4      False  False   False  False             False            False   \n",
       "...      ...    ...     ...    ...               ...              ...   \n",
       "1025   False  False   False  False             False            False   \n",
       "1026   False  False   False  False             False            False   \n",
       "1027   False  False   False  False             False            False   \n",
       "1028   False  False   False  False             False            False   \n",
       "1029   False  False   False  False             False            False   \n",
       "\n",
       "      fineaggregate    age  csMPa  \n",
       "0             False  False  False  \n",
       "1             False  False  False  \n",
       "2             False  False  False  \n",
       "3             False  False  False  \n",
       "4             False  False  False  \n",
       "...             ...    ...    ...  \n",
       "1025          False  False  False  \n",
       "1026          False  False  False  \n",
       "1027          False  False  False  \n",
       "1028          False  False  False  \n",
       "1029          False  False  False  \n",
       "\n",
       "[1030 rows x 9 columns]"
      ]
     },
     "execution_count": 34,
     "metadata": {},
     "output_type": "execute_result"
    }
   ],
   "source": [
    "df.isnull()"
   ]
  },
  {
   "cell_type": "code",
   "execution_count": 35,
   "id": "d2606961",
   "metadata": {},
   "outputs": [
    {
     "data": {
      "text/plain": [
       "cement              0\n",
       "slag                0\n",
       "flyash              0\n",
       "water               0\n",
       "superplasticizer    0\n",
       "coarseaggregate     0\n",
       "fineaggregate       0\n",
       "age                 0\n",
       "csMPa               0\n",
       "dtype: int64"
      ]
     },
     "execution_count": 35,
     "metadata": {},
     "output_type": "execute_result"
    }
   ],
   "source": [
    "df.isnull().sum()"
   ]
  },
  {
   "cell_type": "code",
   "execution_count": 36,
   "id": "f6bbae99",
   "metadata": {},
   "outputs": [
    {
     "data": {
      "text/plain": [
       "age\n",
       "1       9.455000\n",
       "3      18.981194\n",
       "7      26.050873\n",
       "14     28.750968\n",
       "28     36.748612\n",
       "56     51.890220\n",
       "90     40.480370\n",
       "91     69.808636\n",
       "100    47.668846\n",
       "120    39.646667\n",
       "180    41.730385\n",
       "270    51.272308\n",
       "360    40.696667\n",
       "365    43.557857\n",
       "Name: csMPa, dtype: float64"
      ]
     },
     "execution_count": 36,
     "metadata": {},
     "output_type": "execute_result"
    }
   ],
   "source": [
    "df.groupby('age').csMPa.mean()"
   ]
  },
  {
   "cell_type": "markdown",
   "id": "ac4ce38c",
   "metadata": {},
   "source": [
    "# Plotting"
   ]
  },
  {
   "cell_type": "code",
   "execution_count": 37,
   "id": "627e0838",
   "metadata": {},
   "outputs": [],
   "source": [
    "import matplotlib.pyplot as mplot\n",
    "\n",
    "y=df['csMPa']\n",
    "x1=df['cement']\n",
    "x2=df['water']\n",
    "\n",
    "mplot.ylabel('Strength,fontsize=15')\n",
    "mplot.xlable('Water', fontsize=15)\n",
    "mplot.plot("
   ]
  },
  {
   "cell_type": "code",
   "execution_count": 40,
   "id": "6b5820ac",
   "metadata": {},
   "outputs": [],
   "source": [
    "import seaborn as sns"
   ]
  },
  {
   "cell_type": "code",
   "execution_count": 41,
   "id": "0fadb42d",
   "metadata": {},
   "outputs": [
    {
     "data": {
      "text/plain": [
       "<AxesSubplot:xlabel='age', ylabel='Count'>"
      ]
     },
     "execution_count": 41,
     "metadata": {},
     "output_type": "execute_result"
    },
    {
     "data": {
      "image/png": "[encoded data removed]",
      "text/plain": [
       "<Figure size 640x480 with 1 Axes>"
      ]
     },
     "metadata": {},
     "output_type": "display_data"
    }
   ],
   "source": [
    "sns.histplot(df.age)"
   ]
  },
  {
   "cell_type": "code",
   "execution_count": null,
   "id": "dabffc95",
   "metadata": {},
   "outputs": [],
   "source": []
  }
 ],
 "metadata": {
  "kernelspec": {
   "display_name": "Python 3 (ipykernel)",
   "language": "python",
   "name": "python3"
  },
  "language_info": {
   "codemirror_mode": {
    "name": "ipython",
    "version": 3
   },
   "file_extension": ".py",
   "mimetype": "text/x-python",
   "name": "python",
   "nbconvert_exporter": "python",
   "pygments_lexer": "ipython3",
   "version": "3.9.13"
  }
 },
 "nbformat": 4,
 "nbformat_minor": 5
}
