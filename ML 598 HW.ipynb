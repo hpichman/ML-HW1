{
 "cells": [
  {
   "cell_type": "markdown",
   "id": "5bb247b3",
   "metadata": {},
   "source": [
    "## Jan 24 \n",
    "### Python code for standard deviation:"
   ]
  },
  {
   "cell_type": "code",
   "execution_count": 5,
   "id": "2f552bf5",
   "metadata": {},
   "outputs": [
    {
     "name": "stdout",
     "output_type": "stream",
     "text": [
      "[41 69  8 81 74 95 76 77 23 76 63 45 46 82 50 33 39 88 39 84 61 97 22 30\n",
      " 82 55 85 80 17 83 21 58 54 83 84 42 35 62 79 63 53 39 59 94 92 79 39 34\n",
      " 57 33 18 71 77 80 33 96 33 94 86 81 32 22 63 68 60 62 15 15 65 44 13 55\n",
      " 47 63 16 78 17 53 96 18 51 62 68 76 95 81 82 21 96 49  9 77 35 61 82 14\n",
      " 87 51 16 94]\n"
     ]
    }
   ],
   "source": [
    "import numpy as np\n",
    "x=np.random.randint(100, size=(100))\n",
    "\n",
    "print(x)"
   ]
  },
  {
   "cell_type": "code",
   "execution_count": 6,
   "id": "616bb7a4",
   "metadata": {},
   "outputs": [
    {
     "data": {
      "text/plain": [
       "25.88435821108957"
      ]
     },
     "execution_count": 6,
     "metadata": {},
     "output_type": "execute_result"
    }
   ],
   "source": [
    "import statistics\n",
    "statistics.stdev(x)"
   ]
  },
  {
   "cell_type": "markdown",
   "id": "ce169072",
   "metadata": {},
   "source": [
    "### Code utilizing standard deviation equation:\n",
    "\n",
    "stdev = SUM(sqrt((A-ave)^2)/N"
   ]
  },
  {
   "cell_type": "code",
   "execution_count": 9,
   "id": "d0caadbe",
   "metadata": {},
   "outputs": [
    {
     "data": {
      "text/plain": [
       "25.893527134686526"
      ]
     },
     "execution_count": 9,
     "metadata": {},
     "output_type": "execute_result"
    }
   ],
   "source": [
    "import numpy as np\n",
    "ave=statistics.mean(x)\n",
    "y=x-ave\n",
    "z=y**2\n",
    "a=np.sqrt(np.sum(z)/99)\n",
    "a"
   ]
  },
  {
   "cell_type": "markdown",
   "id": "19cc32ac",
   "metadata": {},
   "source": [
    "## Jan 26th \n",
    "### Creating random numbers and bins\n",
    "Don't use histogram funciton -- still need to redo this"
   ]
  },
  {
   "cell_type": "code",
   "execution_count": 18,
   "id": "39687cf1",
   "metadata": {},
   "outputs": [
    {
     "data": {
      "image/png": "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\n",
      "text/plain": [
       "<Figure size 640x480 with 1 Axes>"
      ]
     },
     "metadata": {},
     "output_type": "display_data"
    }
   ],
   "source": [
    "import numpy as np\n",
    "\n",
    "x=np.random.randint(low=0,high=100,size=(10000,1))\n",
    "\n",
    "from matplotlib import pyplot as plt\n",
    "\n",
    "plt.hist(x, bins=[0, 10, 20, 30,\n",
    "                  40, 50, 60, 70,\n",
    "                  80, 90, 100])\n",
    " \n",
    "plt.title(\"Numpy Histogram\")\n",
    " \n",
    "# show plot\n",
    "plt.show()\n"
   ]
  },
  {
   "cell_type": "code",
   "execution_count": 16,
   "id": "2d3589ce",
   "metadata": {},
   "outputs": [
    {
     "data": {
      "image/png": "iVBORw0KGgoAAAANSUhEUgAAAjEAAAGxCAYAAACTN+exAAAAOXRFWHRTb2Z0d2FyZQBNYXRwbG90bGliIHZlcnNpb24zLjUuMiwgaHR0cHM6Ly9tYXRwbG90bGliLm9yZy8qNh9FAAAACXBIWXMAAA9hAAAPYQGoP6dpAAAzzklEQVR4nO3de3QU9f3/8ddKkuViMpKE3GoMqaUIDd4SDUmthFtISkxFK7S0+UK/CCI3I/AVA+0hWksEq+i3sYiXgiIavj2aaguNxiIohUBIjVyKVCsolIQgJhtC89uEML8/PExdwiXh4uYTn49z5sh85r2z7xk87svPzsy6bNu2BQAAYJhL/N0AAADAuSDEAAAAIxFiAACAkQgxAADASIQYAABgJEIMAAAwEiEGAAAYiRADAACMRIgBAABGIsQAHcjy5cvlcrnUtWtXffLJJ622p6WlKSEhwQ+dfXVOnIOtW7eecntWVpZ69+7tM9a7d2+NHz++Xe+zceNG5efnq66u7twaBeB3hBigA/J6vfr5z3/u7zaMUVxcrF/84hftes3GjRv1wAMPEGIAgxFigA4oIyNDL730kt5//31/t2KE6667TldeeaW/22iX5uZmHTt2zN9tAEYjxAAd0H333aewsDDNmTPnjHV79+6Vy+XS8uXLW21zuVzKz8931vPz8+VyubRt2zbdcccdsixLoaGhmjlzpo4dO6bdu3crIyNDwcHB6t27txYtWuSzv3Xr1snlcunFF1/UzJkzFRUVpW7dumnQoEF67733nLoVK1bI5XJp06ZNrXp68MEHFRgYqAMHDrTvhJzFyV8nHT9+XA899JD69u2rbt266bLLLtPVV1+tJ554wjkX//M//yNJio+Pl8vlksvl0rp165zXL1q0SFdddZXcbrciIiL0X//1X9q/f7/P+9q2rQULFiguLk5du3ZVUlKSSktLlZaWprS0NKfuxLlbsWKFZs2apW984xtyu9366KOPdOjQIU2ZMkX9+/fXpZdeqoiICA0ZMkTvvvuuz3ud+Lt+5JFHtHDhQvXu3VvdunVTWlqa/vGPf6i5uVn333+/YmJiZFmWRo0apZqamgt6noGOhhADdEDBwcH6+c9/rjfeeENr1669oPsePXq0rrnmGr3yyiuaOHGiFi9erHvvvVe33nqrRo4cqeLiYg0ZMkRz5szRq6++2ur1c+fO1ccff6xnn31Wzz77rA4cOKC0tDR9/PHHkqQxY8YoKipKTz75pM/rjh07pqVLl2rUqFGKiYk5a58tLS06duxYq8W27bO+dtGiRcrPz9ePf/xjrV69WqtWrdKECROcr47uvPNOTZ8+XZL06quvatOmTdq0aZOuv/56SdLdd9+tOXPmaPjw4Xr99df1y1/+UiUlJUpNTdVnn33mvM+8efM0b948ZWRk6LXXXtPkyZN155136h//+Mcp+8rLy9Onn36qp556Sn/84x8VERGhzz//XJI0f/58rV69WsuWLdM3v/lNpaWlOaHqy5588kn99a9/1ZNPPqlnn31WH3zwgW655RZNmDBBhw4d0u9+9zstWrRIb731lu68886znivAaDaADmPZsmW2JLu8vNz2er32N7/5TTspKck+fvy4bdu2PWjQIPs73/mOU79nzx5bkr1s2bJW+5Jkz58/31mfP3++Lcl+9NFHfequvfZaW5L96quvOmPNzc12r1697Ntuu80Ze/vtt21J9vXXX+/0Y9u2vXfvXjswMNC+8847fd4rKCjIPnjwoDO2atUqW5K9fv36Np2DMy1xcXE+r4mLi7PHjRvnrGdlZdnXXnvtGd/nkUcesSXZe/bs8RnftWuXLcmeMmWKz/jmzZttSfbcuXNt27btzz//3Ha73faYMWN86jZt2mRLsgcNGuSMnTh3N9988xl7sm3bPnbsmN3c3GwPHTrUHjVqlDN+4u/6mmuusVtaWpzxxx9/3JZkZ2dn++wnNzfXlmR7PJ6zvidgKmZigA4qKChIDz30kLZu3ar/+7//u2D7zcrK8lnv16+fXC6XMjMznbGAgAB961vfOuUdUmPHjpXL5XLW4+LilJqaqrffftsZu/vuuyVJzzzzjDNWWFioAQMG6Oabb25Tny+88ILKy8tbLTfddNNZX3vjjTfq/fff15QpU/TGG2+ovr6+Te8pyTmOk+92uvHGG9WvXz/95S9/kSSVlZXJ6/Vq9OjRPnUDBw5sdffUCbfffvspx5966ildf/316tq1qwICAhQYGKi//OUv2rVrV6va73//+7rkkv/8p7tfv36SpJEjR/rUnRj/9NNPT3OkgPkIMUAH9qMf/UjXX3+95s2bp+bm5guyz9DQUJ/1oKAgde/eXV27dm01/v/+3/9r9fqoqKhTjh0+fNhZj4yM1JgxY7R06VK1tLRo27ZtevfddzVt2rQ299mvXz8lJSW1WizLOutr8/Ly9Otf/1plZWXKzMxUWFiYhg4detrbtr/sxHFER0e32hYTE+NsP/HPyMjIVnWnGjvdPh977DHdfffdSk5O1iuvvKKysjKVl5crIyNDjY2NrepP9fd3pvFT/R0CnQUhBujAXC6XFi5cqH/+8596+umnW20/ETy8Xq/P+JcDxYVWXV19yrGwsDCfsXvuuUf79u3Ta6+9psLCQl122WX6yU9+ctH6+rKAgADNnDlTf/vb3/T555/r5Zdf1r59+zRixAj9+9//PuNrTxxHVVVVq20HDhxQeHi4T93Bgwdb1Z3qHEnymcE64cUXX1RaWpqWLFmikSNHKjk5WUlJSTpy5MiZDxIAIQbo6IYNG6bhw4frwQcfVENDg8+2yMhIde3aVdu2bfMZf+211y5aPy+//LLPxbWffPKJNm7c6HM3jiQlJiYqNTVVCxcu1MqVKzV+/Hj16NHjovV1Opdddpl++MMfaurUqfr888+1d+9eSZLb7ZakVrMdQ4YMkfRFuPiy8vJy7dq1S0OHDpUkJScny+12a9WqVT51ZWVlp/wa7nRcLpfTywnbtm075d1dAHwF+LsBAGe3cOFCJSYmqqamRt/5zneccZfLpZ/+9Kf63e9+pyuvvFLXXHONtmzZopdeeumi9VJTU6NRo0Zp4sSJ8ng8mj9/vrp27aq8vLxWtffcc4/GjBkjl8ulKVOmXLSeTnbLLbcoISFBSUlJ6tWrlz755BM9/vjjiouLU58+fSRJAwYMkCQ98cQTGjdunAIDA9W3b1/17dtXkyZN0m9+8xtdcsklyszM1N69e/WLX/xCsbGxuvfeeyXJuT29oKBAPXv21KhRo7R//3498MADio6O9rlu5UyysrL0y1/+UvPnz9egQYO0e/duPfjgg4qPj+c5MsBZEGIAA1x33XX68Y9/fMpw8uijj0r64rbihoYGDRkyRH/6059Oe3Hp+VqwYIHKy8v1s5/9TPX19brxxhtVVFR0yofN3XrrrXK73Ro8eLATHr4KgwcP1iuvvKJnn31W9fX1ioqK0vDhw/WLX/xCgYGBkr74CYe8vDw9//zzeuaZZ3T8+HG9/fbbzlc7V155pZ577jk9+eSTsixLGRkZKigo8Pna7Fe/+pV69Oihp556SsuWLdNVV12lJUuWaN68ebrsssva1Ou8efP073//W88995wWLVqk/v3766mnnlJxcfEpb7EG8B8u227DQxcAfO2tW7dOgwcP1u9//3v98Ic/bNNr/vjHPyo7O1urV6/W97///YvcYcewZ88eXXXVVZo/f77mzp3r73aATo2ZGAAX3N///nd98sknmjVrlq699lqf27c7k/fff18vv/yyUlNTFRISot27d2vRokUKCQnRhAkT/N0e0OkRYgBccFOmTNFf//pXXX/99Xr++edPeVdOZ9CjRw9t3bpVzz33nOrq6mRZltLS0vSrX/3qtLdZA7hw+DoJAAAYiVusAQCAkQgxAADASIQYAABgpE57Ye/x48d14MABBQcHd9qLCgEA6Gxs29aRI0cUExNz1odGdtoQc+DAAcXGxvq7DQAAcA727dunyy+//Iw1nTbEBAcHS/riJISEhPi5GwAA0Bb19fWKjY11PsfPpNOGmBNfIYWEhBBiAAAwTFsuBeHCXgAAYCRCDAAAMBIhBgAAGIkQAwAAjESIAQAARmpXiFmyZImuvvpq546flJQU/fnPf3a2jx8/Xi6Xy2cZOHCgzz68Xq+mT5+u8PBw9ejRQ9nZ2dq/f79PTW1trXJycmRZlizLUk5Ojurq6s79KAEAQKfTrhBz+eWX6+GHH9bWrVu1detWDRkyRD/4wQ+0c+dOpyYjI0NVVVXOsmbNGp995Obmqri4WEVFRdqwYYMaGhqUlZWllpYWp2bs2LGqrKxUSUmJSkpKVFlZqZycnPM8VAAA0Jm4bNu2z2cHoaGheuSRRzRhwgSNHz9edXV1+sMf/nDKWo/Ho169emnFihUaM2aMpP88WXfNmjUaMWKEdu3apf79+6usrEzJycmSpLKyMqWkpOiDDz5Q375929RXfX29LMuSx+PhOTEAABiiPZ/f53xNTEtLi4qKinT06FGlpKQ44+vWrVNERIS+/e1va+LEiaqpqXG2VVRUqLm5Wenp6c5YTEyMEhIStHHjRknSpk2bZFmWE2AkaeDAgbIsy6k5Fa/Xq/r6ep8FAAB0Xu0OMdu3b9ell14qt9utyZMnq7i4WP3795ckZWZmauXKlVq7dq0effRRlZeXa8iQIfJ6vZKk6upqBQUFqWfPnj77jIyMVHV1tVMTERHR6n0jIiKcmlMpKChwrqGxLIvfTQIAoJNr988O9O3bV5WVlaqrq9Mrr7yicePGaf369erfv7/zFZEkJSQkKCkpSXFxcVq9erVuu+220+7Ttm2fxwuf6lHDJ9ecLC8vTzNnznTWT/z2AgAA6JzaHWKCgoL0rW99S5KUlJSk8vJyPfHEE1q6dGmr2ujoaMXFxenDDz+UJEVFRampqUm1tbU+szE1NTVKTU11ag4ePNhqX4cOHVJkZORp+3K73XK73e09HAAAYKjzfk6MbdvO10UnO3z4sPbt26fo6GhJUmJiogIDA1VaWurUVFVVaceOHU6ISUlJkcfj0ZYtW5yazZs3y+PxODUAAADtmomZO3euMjMzFRsbqyNHjqioqEjr1q1TSUmJGhoalJ+fr9tvv13R0dHau3ev5s6dq/DwcI0aNUqSZFmWJkyYoFmzZiksLEyhoaGaPXu2BgwYoGHDhkmS+vXrp4yMDE2cONGZ3Zk0aZKysrLafGcSAADo/NoVYg4ePKicnBxVVVXJsixdffXVKikp0fDhw9XY2Kjt27frhRdeUF1dnaKjozV48GCtWrVKwcHBzj4WL16sgIAAjR49Wo2NjRo6dKiWL1+uLl26ODUrV67UjBkznLuYsrOzVVhYeIEOGUB79b5/tb9baGXvwyP93QIAPzvv58R0VDwnBrhwCDEAvipfyXNiAAAA/IkQAwAAjESIAQAARiLEAAAAIxFiAACAkQgxAADASIQYAABgJEIMAAAwEiEGAAAYqd2/Yg0AHUFHfIqwxJOEga8SMzEAAMBIhBgAAGAkQgwAADASIQYAABiJEAMAAIxEiAEAAEYixAAAACMRYgAAgJEIMQAAwEiEGAAAYCRCDAAAMBIhBgAAGIkQAwAAjESIAQAARiLEAAAAIxFiAACAkQgxAADASIQYAABgJEIMAAAwEiEGAAAYiRADAACMRIgBAABGIsQAAAAjEWIAAICRCDEAAMBIhBgAAGAkQgwAADASIQYAABiJEAMAAIxEiAEAAEZqV4hZsmSJrr76aoWEhCgkJEQpKSn685//7Gy3bVv5+fmKiYlRt27dlJaWpp07d/rsw+v1avr06QoPD1ePHj2UnZ2t/fv3+9TU1tYqJydHlmXJsizl5OSorq7u3I8SAAB0Ou0KMZdffrkefvhhbd26VVu3btWQIUP0gx/8wAkqixYt0mOPPabCwkKVl5crKipKw4cP15EjR5x95Obmqri4WEVFRdqwYYMaGhqUlZWllpYWp2bs2LGqrKxUSUmJSkpKVFlZqZycnAt0yAAAoDNw2bZtn88OQkND9cgjj+i///u/FRMTo9zcXM2ZM0fSF7MukZGRWrhwoe666y55PB716tVLK1as0JgxYyRJBw4cUGxsrNasWaMRI0Zo165d6t+/v8rKypScnCxJKisrU0pKij744AP17du3TX3V19fLsix5PB6FhISczyECX3u971/t7xaMsffhkf5uATBaez6/z/mamJaWFhUVFeno0aNKSUnRnj17VF1drfT0dKfG7XZr0KBB2rhxoySpoqJCzc3NPjUxMTFKSEhwajZt2iTLspwAI0kDBw6UZVlOzal4vV7V19f7LAAAoPNqd4jZvn27Lr30Urndbk2ePFnFxcXq37+/qqurJUmRkZE+9ZGRkc626upqBQUFqWfPnmesiYiIaPW+ERERTs2pFBQUONfQWJal2NjY9h4aAAAwSLtDTN++fVVZWamysjLdfffdGjdunP7+9787210ul0+9bdutxk52cs2p6s+2n7y8PHk8HmfZt29fWw8JAAAYqN0hJigoSN/61reUlJSkgoICXXPNNXriiScUFRUlSa1mS2pqapzZmaioKDU1Nam2tvaMNQcPHmz1vocOHWo1y/NlbrfbuWvqxAIAADqv835OjG3b8nq9io+PV1RUlEpLS51tTU1NWr9+vVJTUyVJiYmJCgwM9KmpqqrSjh07nJqUlBR5PB5t2bLFqdm8ebM8Ho9TAwAAENCe4rlz5yozM1OxsbE6cuSIioqKtG7dOpWUlMjlcik3N1cLFixQnz591KdPHy1YsEDdu3fX2LFjJUmWZWnChAmaNWuWwsLCFBoaqtmzZ2vAgAEaNmyYJKlfv37KyMjQxIkTtXTpUknSpEmTlJWV1eY7kwAAQOfXrhBz8OBB5eTkqKqqSpZl6eqrr1ZJSYmGDx8uSbrvvvvU2NioKVOmqLa2VsnJyXrzzTcVHBzs7GPx4sUKCAjQ6NGj1djYqKFDh2r58uXq0qWLU7Ny5UrNmDHDuYspOztbhYWFF+J4AQBAJ3Hez4npqHhODHDh8JyYtuM5McD5+UqeEwMAAOBPhBgAAGAkQgwAADASIQYAABiJEAMAAIxEiAEAAEYixAAAACMRYgAAgJEIMQAAwEiEGAAAYCRCDAAAMBIhBgAAGIkQAwAAjESIAQAARiLEAAAAIxFiAACAkQgxAADASIQYAABgJEIMAAAwEiEGAAAYiRADAACMRIgBAABGIsQAAAAjEWIAAICRCDEAAMBIhBgAAGAkQgwAADASIQYAABiJEAMAAIxEiAEAAEYixAAAACMRYgAAgJEIMQAAwEiEGAAAYCRCDAAAMBIhBgAAGIkQAwAAjESIAQAARiLEAAAAIxFiAACAkdoVYgoKCnTDDTcoODhYERERuvXWW7V7926fmvHjx8vlcvksAwcO9Knxer2aPn26wsPD1aNHD2VnZ2v//v0+NbW1tcrJyZFlWbIsSzk5Oaqrqzu3owQAAJ1Ou0LM+vXrNXXqVJWVlam0tFTHjh1Tenq6jh496lOXkZGhqqoqZ1mzZo3P9tzcXBUXF6uoqEgbNmxQQ0ODsrKy1NLS4tSMHTtWlZWVKikpUUlJiSorK5WTk3MehwoAADqTgPYUl5SU+KwvW7ZMERERqqio0M033+yMu91uRUVFnXIfHo9Hzz33nFasWKFhw4ZJkl588UXFxsbqrbfe0ogRI7Rr1y6VlJSorKxMycnJkqRnnnlGKSkp2r17t/r27duugwQAAJ3PeV0T4/F4JEmhoaE+4+vWrVNERIS+/e1va+LEiaqpqXG2VVRUqLm5Wenp6c5YTEyMEhIStHHjRknSpk2bZFmWE2AkaeDAgbIsy6k5mdfrVX19vc8CAAA6r3MOMbZta+bMmbrpppuUkJDgjGdmZmrlypVau3atHn30UZWXl2vIkCHyer2SpOrqagUFBalnz54++4uMjFR1dbVTExER0eo9IyIinJqTFRQUONfPWJal2NjYcz00AABggHZ9nfRl06ZN07Zt27Rhwwaf8TFjxjh/TkhIUFJSkuLi4rR69Wrddtttp92fbdtyuVzO+pf/fLqaL8vLy9PMmTOd9fr6eoIMAACd2DnNxEyfPl2vv/663n77bV1++eVnrI2OjlZcXJw+/PBDSVJUVJSamppUW1vrU1dTU6PIyEin5uDBg632dejQIafmZG63WyEhIT4LAADovNoVYmzb1rRp0/Tqq69q7dq1io+PP+trDh8+rH379ik6OlqSlJiYqMDAQJWWljo1VVVV2rFjh1JTUyVJKSkp8ng82rJli1OzefNmeTwepwYAAHy9tevrpKlTp+qll17Sa6+9puDgYOf6FMuy1K1bNzU0NCg/P1+33367oqOjtXfvXs2dO1fh4eEaNWqUUzthwgTNmjVLYWFhCg0N1ezZszVgwADnbqV+/fopIyNDEydO1NKlSyVJkyZNUlZWFncmAQAASe0MMUuWLJEkpaWl+YwvW7ZM48ePV5cuXbR9+3a98MILqqurU3R0tAYPHqxVq1YpODjYqV+8eLECAgI0evRoNTY2aujQoVq+fLm6dOni1KxcuVIzZsxw7mLKzs5WYWHhuR4nAADoZFy2bdv+buJiqK+vl2VZ8ng8XB8DnKfe96/2dwvG2PvwSH+3ABitPZ/f/HYSAAAwEiEGAAAYiRADAACMRIgBAABGIsQAAAAjEWIAAICRCDEAAMBIhBgAAGAkQgwAADASIQYAABiJEAMAAIxEiAEAAEYixAAAACMRYgAAgJEIMQAAwEiEGAAAYCRCDAAAMBIhBgAAGIkQAwAAjESIAQAARiLEAAAAIxFiAACAkQgxAADASIQYAABgJEIMAAAwEiEGAAAYiRADAACMRIgBAABGIsQAAAAjEWIAAICRCDEAAMBIhBgAAGAkQgwAADASIQYAABiJEAMAAIxEiAEAAEYixAAAACMRYgAAgJEIMQAAwEiEGAAAYKR2hZiCggLdcMMNCg4OVkREhG699Vbt3r3bp8a2beXn5ysmJkbdunVTWlqadu7c6VPj9Xo1ffp0hYeHq0ePHsrOztb+/ft9ampra5WTkyPLsmRZlnJyclRXV3duRwkAADqddoWY9evXa+rUqSorK1NpaamOHTum9PR0HT161KlZtGiRHnvsMRUWFqq8vFxRUVEaPny4jhw54tTk5uaquLhYRUVF2rBhgxoaGpSVlaWWlhanZuzYsaqsrFRJSYlKSkpUWVmpnJycC3DIAACgM3DZtm2f64sPHTqkiIgIrV+/XjfffLNs21ZMTIxyc3M1Z84cSV/MukRGRmrhwoW666675PF41KtXL61YsUJjxoyRJB04cECxsbFas2aNRowYoV27dql///4qKytTcnKyJKmsrEwpKSn64IMP1Ldv37P2Vl9fL8uy5PF4FBIScq6HCEBS7/tX+7sFY+x9eKS/WwCM1p7P7/O6Jsbj8UiSQkNDJUl79uxRdXW10tPTnRq3261BgwZp48aNkqSKigo1Nzf71MTExCghIcGp2bRpkyzLcgKMJA0cOFCWZTk1J/N6vaqvr/dZAABA53XOIca2bc2cOVM33XSTEhISJEnV1dWSpMjISJ/ayMhIZ1t1dbWCgoLUs2fPM9ZERES0es+IiAin5mQFBQXO9TOWZSk2NvZcDw0AABjgnEPMtGnTtG3bNr388suttrlcLp9127ZbjZ3s5JpT1Z9pP3l5efJ4PM6yb9++thwGAAAw1DmFmOnTp+v111/X22+/rcsvv9wZj4qKkqRWsyU1NTXO7ExUVJSamppUW1t7xpqDBw+2et9Dhw61muU5we12KyQkxGcBAACdV7tCjG3bmjZtml599VWtXbtW8fHxPtvj4+MVFRWl0tJSZ6ypqUnr169XamqqJCkxMVGBgYE+NVVVVdqxY4dTk5KSIo/Hoy1btjg1mzdvlsfjcWoAAMDXW0B7iqdOnaqXXnpJr732moKDg50ZF8uy1K1bN7lcLuXm5mrBggXq06eP+vTpowULFqh79+4aO3asUzthwgTNmjVLYWFhCg0N1ezZszVgwAANGzZMktSvXz9lZGRo4sSJWrp0qSRp0qRJysrKatOdSQAAoPNrV4hZsmSJJCktLc1nfNmyZRo/frwk6b777lNjY6OmTJmi2tpaJScn680331RwcLBTv3jxYgUEBGj06NFqbGzU0KFDtXz5cnXp0sWpWblypWbMmOHcxZSdna3CwsJzOUYAANAJnddzYjoynhMDXDg8J6bteE4McH6+sufEAAAA+AshBgAAGIkQAwAAjESIAQAARiLEAAAAIxFiAACAkQgxAADASIQYAABgJEIMAAAwEiEGAAAYiRADAACMRIgBAABGIsQAAAAjEWIAAICRCDEAAMBIhBgAAGAkQgwAADASIQYAABiJEAMAAIxEiAEAAEYixAAAACMRYgAAgJEIMQAAwEiEGAAAYCRCDAAAMBIhBgAAGIkQAwAAjESIAQAARiLEAAAAIxFiAACAkQgxAADASIQYAABgJEIMAAAwEiEGAAAYiRADAACMRIgBAABGIsQAAAAjEWIAAICRCDEAAMBIhBgAAGCkdoeYd955R7fccotiYmLkcrn0hz/8wWf7+PHj5XK5fJaBAwf61Hi9Xk2fPl3h4eHq0aOHsrOztX//fp+a2tpa5eTkyLIsWZalnJwc1dXVtfsAAQBA59TuEHP06FFdc801KiwsPG1NRkaGqqqqnGXNmjU+23Nzc1VcXKyioiJt2LBBDQ0NysrKUktLi1MzduxYVVZWqqSkRCUlJaqsrFROTk572wUAAJ1UQHtfkJmZqczMzDPWuN1uRUVFnXKbx+PRc889pxUrVmjYsGGSpBdffFGxsbF66623NGLECO3atUslJSUqKytTcnKyJOmZZ55RSkqKdu/erb59+7a3bQAA0MlclGti1q1bp4iICH3729/WxIkTVVNT42yrqKhQc3Oz0tPTnbGYmBglJCRo48aNkqRNmzbJsiwnwEjSwIEDZVmWU3Myr9er+vp6nwUAAHReFzzEZGZmauXKlVq7dq0effRRlZeXa8iQIfJ6vZKk6upqBQUFqWfPnj6vi4yMVHV1tVMTERHRat8RERFOzckKCgqc62csy1JsbOwFPjIAANCRtPvrpLMZM2aM8+eEhAQlJSUpLi5Oq1ev1m233Xba19m2LZfL5ax/+c+nq/myvLw8zZw501mvr68nyAAA0Ild9Fuso6OjFRcXpw8//FCSFBUVpaamJtXW1vrU1dTUKDIy0qk5ePBgq30dOnTIqTmZ2+1WSEiIzwIAADqvix5iDh8+rH379ik6OlqSlJiYqMDAQJWWljo1VVVV2rFjh1JTUyVJKSkp8ng82rJli1OzefNmeTwepwYAAHy9tfvrpIaGBn300UfO+p49e1RZWanQ0FCFhoYqPz9ft99+u6Kjo7V3717NnTtX4eHhGjVqlCTJsixNmDBBs2bNUlhYmEJDQzV79mwNGDDAuVupX79+ysjI0MSJE7V06VJJ0qRJk5SVlcWdSQAAQNI5hJitW7dq8ODBzvqJ61DGjRunJUuWaPv27XrhhRdUV1en6OhoDR48WKtWrVJwcLDzmsWLFysgIECjR49WY2Ojhg4dquXLl6tLly5OzcqVKzVjxgznLqbs7OwzPpsGAAB8vbhs27b93cTFUF9fL8uy5PF4uD4GOE+971/t7xaMsffhkf5uATBaez6/+e0kAABgJEIMAAAwEiEGAAAY6YI/7A7AuePaEwBoO2ZiAACAkQgxAADASIQYAABgJEIMAAAwEiEGAAAYibuTAOAC6oh3mPEUYXRWzMQAAAAjEWIAAICRCDEAAMBIhBgAAGAkQgwAADASIQYAABiJEAMAAIxEiAEAAEYixAAAACMRYgAAgJEIMQAAwEiEGAAAYCRCDAAAMBIhBgAAGIkQAwAAjESIAQAARiLEAAAAIxFiAACAkQgxAADASIQYAABgJEIMAAAwEiEGAAAYiRADAACMRIgBAABGIsQAAAAjEWIAAICRCDEAAMBIhBgAAGAkQgwAADASIQYAABip3SHmnXfe0S233KKYmBi5XC794Q9/8Nlu27by8/MVExOjbt26KS0tTTt37vSp8Xq9mj59usLDw9WjRw9lZ2dr//79PjW1tbXKycmRZVmyLEs5OTmqq6tr9wECAIDOqd0h5ujRo7rmmmtUWFh4yu2LFi3SY489psLCQpWXlysqKkrDhw/XkSNHnJrc3FwVFxerqKhIGzZsUENDg7KystTS0uLUjB07VpWVlSopKVFJSYkqKyuVk5NzDocIAAA6I5dt2/Y5v9jlUnFxsW699VZJX8zCxMTEKDc3V3PmzJH0xaxLZGSkFi5cqLvuuksej0e9evXSihUrNGbMGEnSgQMHFBsbqzVr1mjEiBHatWuX+vfvr7KyMiUnJ0uSysrKlJKSog8++EB9+/Y9a2/19fWyLEsej0chISHneojAV6r3/av93QI6ob0Pj/R3C0Cbtefz+4JeE7Nnzx5VV1crPT3dGXO73Ro0aJA2btwoSaqoqFBzc7NPTUxMjBISEpyaTZs2ybIsJ8BI0sCBA2VZllNzMq/Xq/r6ep8FAAB0Xhc0xFRXV0uSIiMjfcYjIyOdbdXV1QoKClLPnj3PWBMREdFq/xEREU7NyQoKCpzrZyzLUmxs7HkfDwAA6Lguyt1JLpfLZ9227VZjJzu55lT1Z9pPXl6ePB6Ps+zbt+8cOgcAAKa4oCEmKipKklrNltTU1DizM1FRUWpqalJtbe0Zaw4ePNhq/4cOHWo1y3OC2+1WSEiIzwIAADqvCxpi4uPjFRUVpdLSUmesqalJ69evV2pqqiQpMTFRgYGBPjVVVVXasWOHU5OSkiKPx6MtW7Y4NZs3b5bH43FqAADA11tAe1/Q0NCgjz76yFnfs2ePKisrFRoaqiuuuEK5ublasGCB+vTpoz59+mjBggXq3r27xo4dK0myLEsTJkzQrFmzFBYWptDQUM2ePVsDBgzQsGHDJEn9+vVTRkaGJk6cqKVLl0qSJk2apKysrDbdmQQAADq/doeYrVu3avDgwc76zJkzJUnjxo3T8uXLdd9996mxsVFTpkxRbW2tkpOT9eabbyo4ONh5zeLFixUQEKDRo0ersbFRQ4cO1fLly9WlSxenZuXKlZoxY4ZzF1N2dvZpn00DAAC+fs7rOTEdGc+JgYl4TgwuBp4TA5P47TkxAAAAXxVCDAAAMBIhBgAAGIkQAwAAjESIAQAARiLEAAAAIxFiAACAkQgxAADASIQYAABgJEIMAAAwEiEGAAAYiRADAACMRIgBAABGIsQAAAAjEWIAAICRCDEAAMBIhBgAAGAkQgwAADASIQYAABiJEAMAAIxEiAEAAEYixAAAACMRYgAAgJEIMQAAwEiEGAAAYCRCDAAAMBIhBgAAGIkQAwAAjESIAQAARiLEAAAAIxFiAACAkQgxAADASIQYAABgJEIMAAAwEiEGAAAYiRADAACMRIgBAABGIsQAAAAjEWIAAICRCDEAAMBIFzzE5Ofny+Vy+SxRUVHOdtu2lZ+fr5iYGHXr1k1paWnauXOnzz68Xq+mT5+u8PBw9ejRQ9nZ2dq/f/+FbhUAABjsoszEfOc731FVVZWzbN++3dm2aNEiPfbYYyosLFR5ebmioqI0fPhwHTlyxKnJzc1VcXGxioqKtGHDBjU0NCgrK0stLS0Xo10AAGCggIuy04AAn9mXE2zb1uOPP6558+bptttukyQ9//zzioyM1EsvvaS77rpLHo9Hzz33nFasWKFhw4ZJkl588UXFxsbqrbfe0ogRIy5GywAAwDAXZSbmww8/VExMjOLj4/WjH/1IH3/8sSRpz549qq6uVnp6ulPrdrs1aNAgbdy4UZJUUVGh5uZmn5qYmBglJCQ4Nafi9XpVX1/vswAAgM7rgoeY5ORkvfDCC3rjjTf0zDPPqLq6WqmpqTp8+LCqq6slSZGRkT6viYyMdLZVV1crKChIPXv2PG3NqRQUFMiyLGeJjY29wEcGAAA6kgseYjIzM3X77bdrwIABGjZsmFavXi3pi6+NTnC5XD6vsW271djJzlaTl5cnj8fjLPv27TuPowAAAB3dRb/FukePHhowYIA+/PBD5zqZk2dUampqnNmZqKgoNTU1qba29rQ1p+J2uxUSEuKzAACAzuuihxiv16tdu3YpOjpa8fHxioqKUmlpqbO9qalJ69evV2pqqiQpMTFRgYGBPjVVVVXasWOHUwMAAHDB706aPXu2brnlFl1xxRWqqanRQw89pPr6eo0bN04ul0u5ublasGCB+vTpoz59+mjBggXq3r27xo4dK0myLEsTJkzQrFmzFBYWptDQUM2ePdv5egoAAEC6CCFm//79+vGPf6zPPvtMvXr10sCBA1VWVqa4uDhJ0n333afGxkZNmTJFtbW1Sk5O1ptvvqng4GBnH4sXL1ZAQIBGjx6txsZGDR06VMuXL1eXLl0udLsAAMBQLtu2bX83cTHU19fLsix5PB6uj4Exet+/2t8toBPa+/BIf7cAtFl7Pr/57SQAAGAkQgwAADASIQYAABiJEAMAAIxEiAEAAEYixAAAACMRYgAAgJEIMQAAwEiEGAAAYCRCDAAAMBIhBgAAGIkQAwAAjESIAQAARiLEAAAAIxFiAACAkQgxAADASIQYAABgJEIMAAAwEiEGAAAYiRADAACMRIgBAABGCvB3AwCAi6v3/av93cIp7X14pL9bgOGYiQEAAEZiJgZfSx31/0wBAG3HTAwAADASIQYAABiJEAMAAIxEiAEAAEYixAAAACMRYgAAgJEIMQAAwEiEGAAAYCRCDAAAMBIhBgAAGIkQAwAAjESIAQAARiLEAAAAIxFiAACAkQgxAADASIQYAABgpA4fYn77298qPj5eXbt2VWJiot59911/twQAADqADh1iVq1apdzcXM2bN0/vvfeevve97ykzM1Offvqpv1sDAAB+1qFDzGOPPaYJEybozjvvVL9+/fT4448rNjZWS5Ys8XdrAADAzwL83cDpNDU1qaKiQvfff7/PeHp6ujZu3Niq3uv1yuv1Ousej0eSVF9ff3EbxVklzH/D3y0A6ICuuPf3/m7hlHY8MMLfLXytnfjctm37rLUdNsR89tlnamlpUWRkpM94ZGSkqqurW9UXFBTogQceaDUeGxt70XoEAHQ+1uP+7gCSdOTIEVmWdcaaDhtiTnC5XD7rtm23GpOkvLw8zZw501k/fvy4Pv/8c4WFhZ2y/nzU19crNjZW+/btU0hIyAXdd2fDuWo7zlXbca7ajnPVPpyvtrtY58q2bR05ckQxMTFnre2wISY8PFxdunRpNetSU1PTanZGktxut9xut8/YZZdddjFbVEhICP+StxHnqu04V23HuWo7zlX7cL7a7mKcq7PNwJzQYS/sDQoKUmJiokpLS33GS0tLlZqa6qeuAABAR9FhZ2IkaebMmcrJyVFSUpJSUlL09NNP69NPP9XkyZP93RoAAPCzDh1ixowZo8OHD+vBBx9UVVWVEhIStGbNGsXFxfm1L7fbrfnz57f6+gqtca7ajnPVdpyrtuNctQ/nq+06wrly2W25hwkAAKCD6bDXxAAAAJwJIQYAABiJEAMAAIxEiAEAAEYixAAAACMRYi6A1atXKzk5Wd26dVN4eLhuu+02f7fUoXm9Xl177bVyuVyqrKz0dzsdzt69ezVhwgTFx8erW7duuvLKKzV//nw1NTX5u7UO47e//a3i4+PVtWtXJSYm6t133/V3Sx1OQUGBbrjhBgUHBysiIkK33nqrdu/e7e+2jFBQUCCXy6Xc3Fx/t9Ih/etf/9JPf/pThYWFqXv37rr22mtVUVHhl14IMefplVdeUU5Ojn72s5/p/fff11//+leNHTvW3211aPfdd1+bfhPj6+qDDz7Q8ePHtXTpUu3cuVOLFy/WU089pblz5/q7tQ5h1apVys3N1bx58/Tee+/pe9/7njIzM/Xpp5/6u7UOZf369Zo6darKyspUWlqqY8eOKT09XUePHvV3ax1aeXm5nn76aV199dX+bqVDqq2t1Xe/+10FBgbqz3/+s/7+97/r0Ucfveg/83NaNs5Zc3Oz/Y1vfMN+9tln/d2KMdasWWNfddVV9s6dO21J9nvvvefvloywaNEiOz4+3t9tdAg33nijPXnyZJ+xq666yr7//vv91JEZampqbEn2+vXr/d1Kh3XkyBG7T58+dmlpqT1o0CD7nnvu8XdLHc6cOXPsm266yd9tOJiJOQ9/+9vf9K9//UuXXHKJrrvuOkVHRyszM1M7d+70d2sd0sGDBzVx4kStWLFC3bt393c7RvF4PAoNDfV3G37X1NSkiooKpaen+4ynp6dr48aNfurKDB6PR5L49+gMpk6dqpEjR2rYsGH+bqXDev3115WUlKQ77rhDERERuu666/TMM8/4rR9CzHn4+OOPJUn5+fn6+c9/rj/96U/q2bOnBg0apM8//9zP3XUstm1r/Pjxmjx5spKSkvzdjlH++c9/6je/+Q2/GSbps88+U0tLS6tfso+MjGz1i/f4D9u2NXPmTN10001KSEjwdzsdUlFRkSoqKlRQUODvVjq0jz/+WEuWLFGfPn30xhtvaPLkyZoxY4ZeeOEFv/RDiDmF/Px8uVyuMy5bt27V8ePHJUnz5s3T7bffrsTERC1btkwul0u///3v/XwUX422nqvf/OY3qq+vV15enr9b9pu2nqsvO3DggDIyMnTHHXfozjvv9FPnHY/L5fJZt2271Rj+Y9q0adq2bZtefvllf7fSIe3bt0/33HOPVq5cqa5du/q7nQ7t+PHjuv7667VgwQJdd911uuuuuzRx4kQtWbLEL/106B+A9Jdp06bpRz/60RlrevfurSNHjkiS+vfv74y73W5985vf/NpcZNjWc/XQQw+prKys1Q+FJSUl6Sc/+Ymef/75i9lmh9DWc3XCgQMHNHjwYOcX3CGFh4erS5curWZdampqWs3O4AvTp0/X66+/rnfeeUeXX365v9vpkCoqKlRTU6PExERnrKWlRe+8844KCwvl9XrVpUsXP3bYcURHR/t85klSv3799Morr/ilH0LMKYSHhys8PPysdYmJiXK73dq9e7duuukmSVJzc7P27t3r91/a/qq09Vz97//+rx566CFn/cCBAxoxYoRWrVql5OTki9lih9HWcyV9cQvj4MGDndm9Sy5h0lSSgoKClJiYqNLSUo0aNcoZLy0t1Q9+8AM/dtbx2Lat6dOnq7i4WOvWrVN8fLy/W+qwhg4dqu3bt/uM/exnP9NVV12lOXPmEGC+5Lvf/W6rW/X/8Y9/+O0zjxBzHkJCQjR58mTNnz9fsbGxiouL0yOPPCJJuuOOO/zcXcdyxRVX+KxfeumlkqQrr7yS/zs8yYEDB5SWlqYrrrhCv/71r3Xo0CFnW1RUlB876xhmzpypnJwcJSUlObNUn376KdcMnWTq1Kl66aWX9Nprryk4ONiZvbIsS926dfNzdx1LcHBwq2uFevToobCwMK4hOsm9996r1NRULViwQKNHj9aWLVv09NNP+222mBBznh555BEFBAQoJydHjY2NSk5O1tq1a9WzZ09/twZDvfnmm/roo4/00UcftQp4tm37qauOY8yYMTp8+LAefPBBVVVVKSEhQWvWrPnazH621YlrFNLS0nzGly1bpvHjx3/1DaFTuOGGG1RcXKy8vDw9+OCDio+P1+OPP66f/OQnfunHZfNfRQAAYCC+aAcAAEYixAAAACMRYgAAgJEIMQAAwEiEGAAAYCRCDAAAMBIhBgAAGIkQAwAAjESIAQAARiLEAAAAIxFiAACAkf4/fVT/PLqdQfQAAAAASUVORK5CYII=\n",
      "text/plain": [
       "<Figure size 640x480 with 1 Axes>"
      ]
     },
     "metadata": {},
     "output_type": "display_data"
    },
    {
     "data": {
      "text/plain": [
       "3.8534708144862733"
      ]
     },
     "execution_count": 16,
     "metadata": {},
     "output_type": "execute_result"
    }
   ],
   "source": [
    "y=np.random.randn(10000)\n",
    "\n",
    "plt.hist(y, bins=[-6,-4,-3,-2,-1,0,1,2,3,4,6])\n",
    " \n",
    "plt.title(\"Numpy Histogram\")\n",
    " \n",
    "# show plot\n",
    "plt.show()\n",
    "max(y)\n",
    "#min(y)"
   ]
  },
  {
   "cell_type": "markdown",
   "id": "1b902603",
   "metadata": {},
   "source": [
    "## RMSE Calculation"
   ]
  },
  {
   "cell_type": "code",
   "execution_count": 35,
   "id": "38bf1861",
   "metadata": {},
   "outputs": [
    {
     "data": {
      "text/plain": [
       "1.0060697360748054"
      ]
     },
     "execution_count": 35,
     "metadata": {},
     "output_type": "execute_result"
    }
   ],
   "source": [
    "#calculate mean of random dataset\n",
    "\n",
    "import statistics\n",
    "z=statistics.mean(y)\n",
    "\n",
    "#finding square of data minus average\n",
    "\n",
    "a=(y-z)**2\n",
    "\n",
    "\n",
    "\n",
    "#final calculation\n",
    "\n",
    "RMSE=np.sqrt((1/10000)*sum(a))\n",
    "RMSE\n",
    "\n",
    "\n"
   ]
  },
  {
   "cell_type": "code",
   "execution_count": 34,
   "id": "3a228a3a",
   "metadata": {},
   "outputs": [
    {
     "data": {
      "text/plain": [
       "1.0060697360748054"
      ]
     },
     "execution_count": 34,
     "metadata": {},
     "output_type": "execute_result"
    }
   ],
   "source": [
    "#verifying RMSE calculation\n",
    "import math\n",
    "y_actual = statistics.mean(y)\n",
    "y_predicted = y\n",
    " \n",
    "MSE = np.square(np.subtract(y_actual,y_predicted)).mean() \n",
    " \n",
    "RMSE = math.sqrt(MSE)\n",
    "RMSE"
   ]
  },
  {
   "cell_type": "markdown",
   "id": "eef40b9a",
   "metadata": {},
   "source": [
    "## LCG"
   ]
  },
  {
   "cell_type": "code",
   "execution_count": 13,
   "id": "d3b471c5",
   "metadata": {},
   "outputs": [],
   "source": [
    "#I found this code on the internet because I didn't know how to start. Still trying to figure out how to write it myself. I don't know all the syntax that is being used here\n",
    "\n",
    "def linearCongruentialMethod(Xo, m, a, c,\n",
    "                             randomNums,\n",
    "                             noOfRandomNums):\n",
    " \n",
    "    # Initialize the seed state\n",
    "    randomNums[0] = Xo\n",
    " \n",
    "    # Traverse to generate required\n",
    "    # numbers of random numbers\n",
    "    for i in range(1, noOfRandomNums):\n",
    "         \n",
    "        # Follow the linear congruential method\n",
    "        randomNums[i] = ((randomNums[i - 1] * a) +\n",
    "                                         c) % m\n",
    " \n",
    "# Driver Code\n",
    "if __name__ == '__main__':\n",
    "    \n",
    "# Seed value\n",
    "    Xo = 27\n",
    "     \n",
    "    # Modulus parameter\n",
    "    m = 8\n",
    "     \n",
    "    # Multiplier term\n",
    "    a = 9\n",
    "     \n",
    "    # Increment term\n",
    "    c = 3\n",
    " \n",
    "    # Number of Random numbers\n",
    "    # to be generated\n",
    "    noOfRandomNums = 15\n",
    " \n",
    "    # To store random numbers\n",
    "    randomNums = [0] * (noOfRandomNums)\n",
    "    \n",
    "    # Function Call\n",
    "    linearCongruentialMethod(Xo, m, a, c,\n",
    "                             randomNums,\n",
    "                             noOfRandomNums)\n",
    " \n",
    "    # Print the generated random numbers\n",
    "    for i in randomNums:\n",
    "        print(i, end = \" \")"
   ]
  },
  {
   "cell_type": "markdown",
   "id": "d01e4706",
   "metadata": {},
   "source": [
    "# Feb 2 Data Collection Exercise"
   ]
  },
  {
   "cell_type": "markdown",
   "id": "c53174bb",
   "metadata": {},
   "source": [
    "Goal: Collect a bit of real data that you would need/want to solve a specific problem\n",
    "\n",
    "1. What feature data do you have/need?\n",
    "    1. Bleaching in photodoped DHNRs at different concentrations of dopant\n",
    "    2. Want to figure out best concentrations to use (determine relationship between dopant concentration and bleaching)\n",
    "2. What target data do you have/need\n",
    "    1. PL (normalized to absorption) at max values\n",
    "    2. concentration of dopant\n",
    "    3. UV exposure time\n",
    "3. Where does the data come from?\n",
    "    1. Fluorometer\n",
    "    2. Calculated concentrations\n",
    "    3. Measured time\n",
    "4. What metadata do you have/need?\n",
    "    1. UV exposure time\n",
    "    2. Machine used\n",
    "    3. Ambient temperature\n",
    "    4. Humidity\n",
    "5. Establish version control for your data\n",
    "    1. Can be new dataset using suggested concentrations\n",
    "6. How will you make this data FAIR?\n",
    "    1. Put in .csv and upload to database (maybe github?)\n",
    "7. What problems/obstacles/questions do you notice?\n",
    "    1. I will have to curate the data by hand and put it in a file first, so I'm not sure if this idea is useful.\n"
   ]
  },
  {
   "cell_type": "markdown",
   "id": "4728c802",
   "metadata": {},
   "source": [
   
